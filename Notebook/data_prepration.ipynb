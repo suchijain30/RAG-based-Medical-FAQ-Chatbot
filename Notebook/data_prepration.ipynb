{
 "cells": [
  {
   "cell_type": "code",
   "execution_count": 1,
   "id": "2ae45b2d",
   "metadata": {},
   "outputs": [],
   "source": [
    "import pandas as pd\n",
    "import re"
   ]
  },
  {
   "cell_type": "code",
   "execution_count": 6,
   "id": "98e4d403",
   "metadata": {},
   "outputs": [],
   "source": [
    "input_path = r'D:\\data_sci_code\\RAG_ChatBot\\Data\\train.csv'\n",
    "df = pd.read_csv(input_path)"
   ]
  },
  {
   "cell_type": "code",
   "execution_count": 7,
   "id": "b1d22a6a",
   "metadata": {},
   "outputs": [
    {
     "name": "stdout",
     "output_type": "stream",
     "text": [
      "Original columns: Index(['qtype', 'Question', 'Answer'], dtype='object')\n"
     ]
    }
   ],
   "source": [
    "print(\"Original columns:\", df.columns)\n"
   ]
  },
  {
   "cell_type": "code",
   "execution_count": 8,
   "id": "7b710f72",
   "metadata": {},
   "outputs": [],
   "source": [
    "df = df[[\"Question\", \"Answer\"]]"
   ]
  },
  {
   "cell_type": "code",
   "execution_count": 9,
   "id": "938bbd7e",
   "metadata": {},
   "outputs": [],
   "source": [
    "# Step 2: Clean text function\n",
    "def clean_text(tex):\n",
    "    if pd.isna(tex):\n",
    "        return \"\"\n",
    "    tex = str(tex).lower()  # lowercase\n",
    "    tex = re.sub(r\"\\s+\", \" \", tex)  # collapse multiple spaces/newlines\n",
    "    tex = re.sub(r\"[^a-z0-9?.,% ]\", \" \", tex)  # keep only basic chars\n",
    "    tex = re.sub(r\"\\s+\", \" \", tex)  # collapse again\n",
    "    return tex.strip()"
   ]
  },
  {
   "cell_type": "code",
   "execution_count": 10,
   "id": "cc36ec07",
   "metadata": {},
   "outputs": [],
   "source": [
    "# Step 3: Apply cleaning\n",
    "df[\"Question\"] = df[\"Question\"].apply(clean_text)\n",
    "df[\"Answer\"] = df[\"Answer\"].apply(clean_text)\n"
   ]
  },
  {
   "cell_type": "code",
   "execution_count": 11,
   "id": "1c32b0ad",
   "metadata": {},
   "outputs": [],
   "source": [
    "# Step 4: Remove duplicates\n",
    "df = df.drop_duplicates(subset=\"Question\")"
   ]
  },
  {
   "cell_type": "code",
   "execution_count": 12,
   "id": "6fe7b926",
   "metadata": {},
   "outputs": [],
   "source": [
    "# Step 5: Save cleaned CSV\n",
    "output_path = r'D:\\data_sci_code\\RAG_ChatBot\\Data\\medical_faqs_clean.csv'\n",
    "df.to_csv(output_path, index=False)"
   ]
  },
  {
   "cell_type": "code",
   "execution_count": 13,
   "id": "0141b024",
   "metadata": {},
   "outputs": [
    {
     "name": "stdout",
     "output_type": "stream",
     "text": [
      "✅ Preprocessed data saved to: D:\\data_sci_code\\RAG_ChatBot\\Data\\medical_faqs_clean.csv\n",
      "Total rows: 14303\n"
     ]
    },
    {
     "data": {
      "text/html": [
       "<div>\n",
       "<style scoped>\n",
       "    .dataframe tbody tr th:only-of-type {\n",
       "        vertical-align: middle;\n",
       "    }\n",
       "\n",
       "    .dataframe tbody tr th {\n",
       "        vertical-align: top;\n",
       "    }\n",
       "\n",
       "    .dataframe thead th {\n",
       "        text-align: right;\n",
       "    }\n",
       "</style>\n",
       "<table border=\"1\" class=\"dataframe\">\n",
       "  <thead>\n",
       "    <tr style=\"text-align: right;\">\n",
       "      <th></th>\n",
       "      <th>Question</th>\n",
       "      <th>Answer</th>\n",
       "    </tr>\n",
       "  </thead>\n",
       "  <tbody>\n",
       "    <tr>\n",
       "      <th>0</th>\n",
       "      <td>who is at risk for lymphocytic choriomeningiti...</td>\n",
       "      <td>lcmv infections can occur after exposure to fr...</td>\n",
       "    </tr>\n",
       "    <tr>\n",
       "      <th>1</th>\n",
       "      <td>what are the symptoms of lymphocytic choriomen...</td>\n",
       "      <td>lcmv is most commonly recognized as causing ne...</td>\n",
       "    </tr>\n",
       "    <tr>\n",
       "      <th>3</th>\n",
       "      <td>how to diagnose lymphocytic choriomeningitis l...</td>\n",
       "      <td>during the first phase of the disease, the mos...</td>\n",
       "    </tr>\n",
       "    <tr>\n",
       "      <th>4</th>\n",
       "      <td>what are the treatments for lymphocytic chorio...</td>\n",
       "      <td>aseptic meningitis, encephalitis, or meningoen...</td>\n",
       "    </tr>\n",
       "    <tr>\n",
       "      <th>5</th>\n",
       "      <td>how to prevent lymphocytic choriomeningitis lcm ?</td>\n",
       "      <td>lcmv infection can be prevented by avoiding co...</td>\n",
       "    </tr>\n",
       "  </tbody>\n",
       "</table>\n",
       "</div>"
      ],
      "text/plain": [
       "                                            Question  \\\n",
       "0  who is at risk for lymphocytic choriomeningiti...   \n",
       "1  what are the symptoms of lymphocytic choriomen...   \n",
       "3  how to diagnose lymphocytic choriomeningitis l...   \n",
       "4  what are the treatments for lymphocytic chorio...   \n",
       "5  how to prevent lymphocytic choriomeningitis lcm ?   \n",
       "\n",
       "                                              Answer  \n",
       "0  lcmv infections can occur after exposure to fr...  \n",
       "1  lcmv is most commonly recognized as causing ne...  \n",
       "3  during the first phase of the disease, the mos...  \n",
       "4  aseptic meningitis, encephalitis, or meningoen...  \n",
       "5  lcmv infection can be prevented by avoiding co...  "
      ]
     },
     "execution_count": 13,
     "metadata": {},
     "output_type": "execute_result"
    }
   ],
   "source": [
    "print(f\"✅ Preprocessed data saved to: {output_path}\")\n",
    "print(\"Total rows:\", len(df))\n",
    "df.head(5)"
   ]
  }
 ],
 "metadata": {
  "kernelspec": {
   "display_name": ".conda",
   "language": "python",
   "name": "python3"
  },
  "language_info": {
   "codemirror_mode": {
    "name": "ipython",
    "version": 3
   },
   "file_extension": ".py",
   "mimetype": "text/x-python",
   "name": "python",
   "nbconvert_exporter": "python",
   "pygments_lexer": "ipython3",
   "version": "3.11.7"
  }
 },
 "nbformat": 4,
 "nbformat_minor": 5
}
